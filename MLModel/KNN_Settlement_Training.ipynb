{
 "cells": [
  {
   "cell_type": "markdown",
   "id": "b841834e",
   "metadata": {},
   "source": [
    "# K-Nearest Neighbors (KNN) Regression for Settlement Value Prediction\n",
    "This notebook trains a **KNN regression model** using the **already cleaned** dataset (`Patient_records.csv`).\n",
    "It includes model training, evaluation, and a performance graph."
   ]
  },
  {
   "cell_type": "code",
   "execution_count": null,
   "id": "0e7796eb",
   "metadata": {},
   "outputs": [],
   "source": [
    "import numpy as np\n",
    "import pandas as pd\n",
    "import matplotlib.pyplot as plt\n",
    "from collections import Counter\n",
    "from datetime import datetime"
   ]
  },
  {
   "cell_type": "markdown",
   "id": "877c62e9",
   "metadata": {},
   "source": [
    "Load and Preprocess Data"
   ]
  },
  {
   "cell_type": "code",
   "execution_count": null,
   "id": "10dc1209",
   "metadata": {},
   "outputs": [
    {
     "ename": "ModuleNotFoundError",
     "evalue": "No module named 'pandas'",
     "output_type": "error",
     "traceback": [
      "\u001b[1;31m---------------------------------------------------------------------------\u001b[0m",
      "\u001b[1;31mModuleNotFoundError\u001b[0m                       Traceback (most recent call last)",
      "Cell \u001b[1;32mIn[1], line 1\u001b[0m\n\u001b[1;32m----> 1\u001b[0m \u001b[38;5;28;01mimport\u001b[39;00m\u001b[38;5;250m \u001b[39m\u001b[38;5;21;01mpandas\u001b[39;00m\u001b[38;5;250m \u001b[39m\u001b[38;5;28;01mas\u001b[39;00m\u001b[38;5;250m \u001b[39m\u001b[38;5;21;01mpd\u001b[39;00m\n\u001b[0;32m      2\u001b[0m \u001b[38;5;28;01mimport\u001b[39;00m\u001b[38;5;250m \u001b[39m\u001b[38;5;21;01mnumpy\u001b[39;00m\u001b[38;5;250m \u001b[39m\u001b[38;5;28;01mas\u001b[39;00m\u001b[38;5;250m \u001b[39m\u001b[38;5;21;01mnp\u001b[39;00m\n\u001b[0;32m      3\u001b[0m \u001b[38;5;28;01mfrom\u001b[39;00m\u001b[38;5;250m \u001b[39m\u001b[38;5;21;01mdatetime\u001b[39;00m\u001b[38;5;250m \u001b[39m\u001b[38;5;28;01mimport\u001b[39;00m datetime\n",
      "\u001b[1;31mModuleNotFoundError\u001b[0m: No module named 'pandas'"
     ]
    }
   ],
   "source": [
    "# Load dataset\n",
    "file_path = \"Cleaned_Patient_records.csv\"\n",
    "df = pd.read_csv(file_path)\n",
    "\n",
    "# Step 1: Create 'duration_days' from 'Accident Date' and 'Claim Date'\n",
    "if \"Accident Date\" in df.columns and \"Claim Date\" in df.columns:\n",
    "    df[\"Accident Date\"] = pd.to_datetime(df[\"Accident Date\"], errors='coerce')\n",
    "    df[\"Claim Date\"] = pd.to_datetime(df[\"Claim Date\"], errors='coerce')\n",
    "    df[\"duration_days\"] = (df[\"Claim Date\"] - df[\"Accident Date\"]).dt.days\n",
    "\n",
    "# Step 2: Convert categorical features to numerical values\n",
    "categorical_columns = df.select_dtypes(include=[\"object\"]).columns\n",
    "category_mappings = {}\n",
    "\n",
    "for col in categorical_columns:\n",
    "    unique_values = df[col].unique()\n",
    "    mapping = {val: idx for idx, val in enumerate(unique_values)}\n",
    "    df[col] = df[col].map(mapping)\n",
    "    category_mappings[col] = mapping\n",
    "\n",
    "# Step 3: Drop rows with any missing values\n",
    "df_cleaned = df.dropna()\n",
    "\n",
    "# Step 4: Remove highly correlated features\n",
    "correlation_matrix = df_cleaned.corr().abs()\n",
    "upper_tri = correlation_matrix.where(np.triu(np.ones(correlation_matrix.shape), k=1).astype(bool))\n",
    "highly_correlated_features = [column for column in upper_tri.columns if any(upper_tri[column] > 0.9)]\n",
    "df_cleaned = df_cleaned.drop(columns=highly_correlated_features, errors='ignore')\n",
    "\n",
    "# Step 5: Save cleaned dataset\n",
    "cleaned_file_path = \"Cleaned_Patient_Records.csv\"\n",
    "df_cleaned.to_csv(cleaned_file_path, index=False)\n",
    "print(f\"✅ Data cleaned and saved to {cleaned_file_path}\")"
   ]
  },
  {
   "cell_type": "markdown",
   "id": "ac507a8b",
   "metadata": {},
   "source": [
    "## Implementing the KNN Model"
   ]
  },
  {
   "cell_type": "code",
   "execution_count": null,
   "id": "030c013f",
   "metadata": {},
   "outputs": [],
   "source": [
    "class StandardScaler:\n",
    "    def __init__(self):\n",
    "        self.mean = None\n",
    "        self.std = None\n",
    "\n",
    "    def fit(self, X):\n",
    "        X = np.array(X)\n",
    "        self.mean = np.mean(X, axis=0)\n",
    "        self.std = np.std(X, axis=0)\n",
    "        self.std[self.std == 0] = 1  # Prevent division by zero\n",
    "\n",
    "    def transform(self, X):\n",
    "        X = np.array(X)\n",
    "        return (X - self.mean) / self.std\n",
    "    \n",
    "    def fit_transform(self, X):\n",
    "        self.fit(X)\n",
    "        return self.transform(X)\n",
    "\n",
    "class KNN:\n",
    "    def __init__(self, k=50, regression=True):\n",
    "        if k <= 0:\n",
    "            raise ValueError(\"k must be a positive integer.\")\n",
    "        self.k = k\n",
    "        self.regression = regression\n",
    "        self.X_train = None\n",
    "        self.y_train = None\n",
    "        self.scaler = StandardScaler()\n",
    "\n",
    "    def fit(self, X, y):\n",
    "        self.X_train = self.scaler.fit_transform(np.array(X))\n",
    "        self.y_train = np.array(y)\n",
    "        \n",
    "        if self.X_train.shape[0] < self.k:\n",
    "            raise ValueError(\"k cannot be greater than the number of training samples.\")\n",
    "    \n",
    "    def predict(self, X):\n",
    "        X = self.scaler.transform(np.array(X))\n",
    "        predictions = [self._predict(x) for x in X]\n",
    "        return np.array(predictions)\n",
    "    \n",
    "    def _predict(self, x):\n",
    "        distances = np.linalg.norm(self.X_train - x, axis=1)\n",
    "        k_indices = np.argsort(distances)[:self.k]\n",
    "        k_nearest_values = self.y_train[k_indices]\n",
    "        \n",
    "        if self.regression:\n",
    "            return np.mean(k_nearest_values)  # Regression: Return average\n",
    "        else:\n",
    "            # Weighted voting by inverse distance\n",
    "            class_votes = {}\n",
    "            for i, idx in enumerate(k_indices):\n",
    "                label = self.y_train[idx]\n",
    "                weight = 1 / (distances[idx] + 1e-9)  # Avoid division by zero\n",
    "                class_votes[label] = class_votes.get(label, 0) + weight\n",
    "            \n",
    "            return max(class_votes, key=class_votes.get)\n",
    "\n",
    "class MLModule:\n",
    "    def __init__(self):\n",
    "        self.models = {}\n",
    "    \n",
    "    def add_model(self, name, model):\n",
    "        if not isinstance(model, KNN):\n",
    "            raise TypeError(\"Model must be an instance of KNN.\")\n",
    "        self.models[name] = model\n",
    "    \n",
    "    def train(self, name, X, y):\n",
    "        if name in self.models:\n",
    "            print(f\"Training model '{name}' with {len(X)} samples...\")\n",
    "            self.models[name].fit(X, y)\n",
    "        else:\n",
    "            raise ValueError(f\"Model '{name}' not found.\")\n",
    "    \n",
    "    def predict(self, name, X):\n",
    "        if name in self.models:\n",
    "            return self.models[name].predict(X)\n",
    "        else:\n",
    "            raise ValueError(f\"Model '{name}' not found.\")"
   ]
  },
  {
   "cell_type": "markdown",
   "id": "bf94a6d8",
   "metadata": {},
   "source": [
    "## Load Cleaned Data and Train KNN Model"
   ]
  },
  {
   "cell_type": "code",
   "execution_count": null,
   "id": "8cade0fa",
   "metadata": {},
   "outputs": [],
   "source": [
    "# Load cleaned dataset\n",
    "file_path = \"Cleaned_Patient_Records.csv\"\n",
    "df_cleaned = pd.read_csv(file_path)\n",
    "\n",
    "# Convert any object-type columns to numeric if missed\n",
    "categorical_columns = df_cleaned.select_dtypes(include=[\"object\"]).columns\n",
    "category_mappings = {}\n",
    "for col in categorical_columns:\n",
    "    unique_values = df_cleaned[col].unique()\n",
    "    mapping = {val: idx for idx, val in enumerate(unique_values)}\n",
    "    df_cleaned[col] = df_cleaned[col].map(mapping)\n",
    "    category_mappings[col] = mapping\n",
    "\n",
    "# Separate features and target variable\n",
    "X = df_cleaned.drop(columns=[\"SettlementValue\"], errors='ignore').values.astype(float)\n",
    "y = df_cleaned[\"SettlementValue\"].values.astype(float)\n",
    "\n",
    "# Safe Min-Max scaling\n",
    "X_min = X.min(axis=0)\n",
    "X_max = X.max(axis=0)\n",
    "denom = np.where((X_max - X_min) == 0, 1, X_max - X_min)\n",
    "X_scaled = (X - X_min) / denom\n",
    "\n",
    "# Train KNN Regression\n",
    "ml = MLModule()\n",
    "knn_regressor = KNN(k=5, regression=True)\n",
    "ml.add_model(\"knn_regressor\", knn_regressor)\n",
    "ml.train(\"knn_regressor\", X_scaled, y)\n",
    "print(\"KNN Regression Model Trained Successfully!\")\n"
   ]
  },
  {
   "cell_type": "code",
   "execution_count": null,
   "id": "30583793",
   "metadata": {},
   "outputs": [],
   "source": [
    "\n",
    "# Weighted KNN prediction function\n",
    "def weighted_knn_predict(X_train, y_train, X_test, k=20):\n",
    "    predictions = []\n",
    "    for x in X_test:\n",
    "        distances = np.linalg.norm(X_train - x, axis=1)\n",
    "        k_indices = np.argsort(distances)[:k]\n",
    "        k_distances = distances[k_indices]\n",
    "        k_weights = 1 / (k_distances + 1e-5)  # Avoid division by zero\n",
    "\n",
    "        weighted_avg = np.dot(k_weights, y_train[k_indices]) / np.sum(k_weights)\n",
    "        predictions.append(weighted_avg)\n",
    "    \n",
    "    return np.array(predictions)\n"
   ]
  },
  {
   "cell_type": "markdown",
   "id": "b26c2c4e",
   "metadata": {},
   "source": [
    "## Model Performance: Actual vs Predicted Settlement Values"
   ]
  },
  {
   "cell_type": "code",
   "execution_count": null,
   "id": "8aec127f",
   "metadata": {},
   "outputs": [],
   "source": [
    "\n",
    "# Make predictions on the dataset\n",
    "predictions = ml.predict(\"knn_regressor\", X_scaled)\n",
    "\n",
    "# Plot actual vs predicted values\n",
    "plt.figure(figsize=(8, 6))\n",
    "plt.scatter(y, predictions, alpha=0.5)\n",
    "plt.plot([min(y), max(y)], [min(y), max(y)], color='red', linestyle='dashed')  # Perfect prediction line\n",
    "plt.xlabel(\"Actual Settlement Values\")\n",
    "plt.ylabel(\"Predicted Settlement Values\")\n",
    "plt.title(\"Actual vs Predicted Settlement Values\")\n",
    "plt.show()\n"
   ]
  },
  {
   "cell_type": "markdown",
   "id": "1d08f8aa",
   "metadata": {},
   "source": [
    "Save the model\n"
   ]
  },
  {
   "cell_type": "code",
   "execution_count": null,
   "id": "1cfdf208",
   "metadata": {},
   "outputs": [],
   "source": [
    "import pickle\n",
    "\n",
    "# Save the trained model to a file\n",
    "with open(\"knn_model.pkl\", \"wb\") as f:\n",
    "    pickle.dump(ml, f)\n",
    "\n",
    "print(\"✅ Model saved to 'knn_model.pkl'\")"
   ]
  },
  {
   "cell_type": "markdown",
   "id": "f8cdf1ef",
   "metadata": {},
   "source": [
    "## Predict Settlement Value from User Input"
   ]
  },
  {
   "cell_type": "code",
   "execution_count": null,
   "id": "271ba590",
   "metadata": {},
   "outputs": [],
   "source": [
    "\n",
    "# User input for prediction\n",
    "print(\"Please enter values for the following features:\")\n",
    "user_input = []\n",
    "feature_names = df_cleaned.drop(columns=[\"SettlementValue\"], errors='ignore').columns\n",
    "\n",
    "for feature in feature_names:\n",
    "    value = float(input(f\"{feature}: \"))\n",
    "    user_input.append(value)\n",
    "\n",
    "# Normalize user input using the same scaling\n",
    "user_input_scaled = (np.array(user_input) - X_min) / (X_max - X_min)\n",
    "\n",
    "# Predict Settlement Value\n",
    "prediction = ml.predict(\"knn_regressor\", [user_input_scaled])\n",
    "print(f\"Predicted Settlement Value: {prediction[0]}\")\n"
   ]
  }
 ],
 "metadata": {
  "kernelspec": {
   "display_name": "Python 3",
   "language": "python",
   "name": "python3"
  },
  "language_info": {
   "codemirror_mode": {
    "name": "ipython",
    "version": 3
   },
   "file_extension": ".py",
   "mimetype": "text/x-python",
   "name": "python",
   "nbconvert_exporter": "python",
   "pygments_lexer": "ipython3",
   "version": "3.11.9"
  }
 },
 "nbformat": 4,
 "nbformat_minor": 5
}
