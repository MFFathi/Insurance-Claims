{
 "cells": [
  {
   "cell_type": "markdown",
   "id": "b841834e",
   "metadata": {},
   "source": [
    "# K-Nearest Neighbors (KNN) Regression for Settlement Value Prediction\n",
    "This notebook trains a **KNN regression model** using the **already cleaned** dataset (`Patient_records.csv`).\n",
    "It includes model training, evaluation, and a performance graph."
   ]
  },
  {
   "cell_type": "code",
<<<<<<< HEAD
   "execution_count": 55,
=======
   "execution_count": null,
>>>>>>> 1d11873e117d4161a601866bac42ec53ff8a1812
   "id": "0e7796eb",
   "metadata": {},
   "outputs": [],
   "source": [
    "import numpy as np\n",
    "import pandas as pd\n",
    "import matplotlib.pyplot as plt\n",
    "from collections import Counter\n",
    "from datetime import datetime"
   ]
  },
  {
   "cell_type": "markdown",
   "id": "877c62e9",
   "metadata": {},
   "source": [
    "Load and Preprocess Data"
   ]
  },
  {
   "cell_type": "code",
<<<<<<< HEAD
   "execution_count": 56,
=======
   "execution_count": null,
>>>>>>> 1d11873e117d4161a601866bac42ec53ff8a1812
   "id": "10dc1209",
   "metadata": {},
   "outputs": [
    {
     "ename": "ModuleNotFoundError",
     "evalue": "No module named 'pandas'",
     "output_type": "error",
     "traceback": [
      "\u001b[1;31m---------------------------------------------------------------------------\u001b[0m",
      "\u001b[1;31mModuleNotFoundError\u001b[0m                       Traceback (most recent call last)",
      "Cell \u001b[1;32mIn[1], line 1\u001b[0m\n\u001b[1;32m----> 1\u001b[0m \u001b[38;5;28;01mimport\u001b[39;00m\u001b[38;5;250m \u001b[39m\u001b[38;5;21;01mpandas\u001b[39;00m\u001b[38;5;250m \u001b[39m\u001b[38;5;28;01mas\u001b[39;00m\u001b[38;5;250m \u001b[39m\u001b[38;5;21;01mpd\u001b[39;00m\n\u001b[0;32m      2\u001b[0m \u001b[38;5;28;01mimport\u001b[39;00m\u001b[38;5;250m \u001b[39m\u001b[38;5;21;01mnumpy\u001b[39;00m\u001b[38;5;250m \u001b[39m\u001b[38;5;28;01mas\u001b[39;00m\u001b[38;5;250m \u001b[39m\u001b[38;5;21;01mnp\u001b[39;00m\n\u001b[0;32m      3\u001b[0m \u001b[38;5;28;01mfrom\u001b[39;00m\u001b[38;5;250m \u001b[39m\u001b[38;5;21;01mdatetime\u001b[39;00m\u001b[38;5;250m \u001b[39m\u001b[38;5;28;01mimport\u001b[39;00m datetime\n",
      "\u001b[1;31mModuleNotFoundError\u001b[0m: No module named 'pandas'"
     ]
    }
   ],
   "source": [
    "# Load dataset\n",
    "file_path = \"Cleaned_Patient_records.csv\"\n",
    "df = pd.read_csv(file_path)\n",
    "\n",
    "# Step 1: Create 'duration_days' from 'Accident Date' and 'Claim Date'\n",
    "if \"Accident Date\" in df.columns and \"Claim Date\" in df.columns:\n",
    "    df[\"Accident Date\"] = pd.to_datetime(df[\"Accident Date\"], errors='coerce')\n",
    "    df[\"Claim Date\"] = pd.to_datetime(df[\"Claim Date\"], errors='coerce')\n",
    "    df[\"duration_days\"] = (df[\"Claim Date\"] - df[\"Accident Date\"]).dt.days\n",
    "\n",
    "# Step 2: Convert categorical features to numerical values\n",
    "categorical_columns = df.select_dtypes(include=[\"object\"]).columns\n",
    "category_mappings = {}\n",
    "\n",
    "for col in categorical_columns:\n",
    "    unique_values = df[col].unique()\n",
    "    mapping = {val: idx for idx, val in enumerate(unique_values)}\n",
    "    df[col] = df[col].map(mapping)\n",
    "    category_mappings[col] = mapping\n",
    "\n",
    "# Step 3: Drop rows with any missing values\n",
    "df_cleaned = df.dropna()\n",
    "\n",
    "# Step 4: Remove highly correlated features\n",
    "correlation_matrix = df_cleaned.corr().abs()\n",
    "upper_tri = correlation_matrix.where(np.triu(np.ones(correlation_matrix.shape), k=1).astype(bool))\n",
    "highly_correlated_features = [column for column in upper_tri.columns if any(upper_tri[column] > 0.9)]\n",
    "df_cleaned = df_cleaned.drop(columns=highly_correlated_features, errors='ignore')\n",
    "\n",
    "# Step 5: Save cleaned dataset\n",
    "cleaned_file_path = \"Cleaned_Patient_Records.csv\"\n",
    "df_cleaned.to_csv(cleaned_file_path, index=False)\n",
    "print(f\"✅ Data cleaned and saved to {cleaned_file_path}\")"
   ]
  },
  {
   "cell_type": "markdown",
   "id": "ac507a8b",
   "metadata": {},
   "source": [
    "## Implementing the KNN Model"
   ]
  },
  {
   "cell_type": "code",
<<<<<<< HEAD
   "execution_count": 57,
=======
   "execution_count": null,
>>>>>>> 1d11873e117d4161a601866bac42ec53ff8a1812
   "id": "030c013f",
   "metadata": {},
   "outputs": [],
   "source": [
    "class StandardScaler:\n",
    "    def __init__(self):\n",
    "        self.mean = None\n",
    "        self.std = None\n",
    "\n",
    "    def fit(self, X):\n",
    "        X = np.array(X)\n",
    "        self.mean = np.mean(X, axis=0)\n",
    "        self.std = np.std(X, axis=0)\n",
    "        self.std[self.std == 0] = 1  # Prevent division by zero\n",
    "\n",
    "    def transform(self, X):\n",
    "        X = np.array(X)\n",
    "        return (X - self.mean) / self.std\n",
    "    \n",
    "    def fit_transform(self, X):\n",
    "        self.fit(X)\n",
    "        return self.transform(X)\n",
    "\n",
    "class KNN:\n",
    "    def __init__(self, k=1, regression=True):\n",
    "        if k <= 0:\n",
    "            raise ValueError(\"k must be a positive integer.\")\n",
    "        self.k = k\n",
    "        self.regression = regression\n",
    "        self.X_train = None\n",
    "        self.y_train = None\n",
    "        self.scaler = StandardScaler()\n",
    "\n",
    "    def fit(self, X, y):\n",
    "        self.X_train = self.scaler.fit_transform(np.array(X))\n",
    "        self.y_train = np.array(y)\n",
    "        \n",
    "        if self.X_train.shape[0] < self.k:\n",
    "            raise ValueError(\"k cannot be greater than the number of training samples.\")\n",
    "    \n",
    "    def predict(self, X):\n",
    "        X = self.scaler.transform(np.array(X))\n",
    "        predictions = [self._predict(x) for x in X]\n",
    "        return np.array(predictions)\n",
    "    \n",
    "    def _predict(self, x):\n",
    "        distances = np.linalg.norm(self.X_train - x, axis=1)\n",
    "        k_indices = np.argsort(distances)[:self.k]\n",
    "        k_nearest_values = self.y_train[k_indices]\n",
    "        \n",
    "        if self.regression:\n",
    "            return np.mean(k_nearest_values)  # Regression: Return average\n",
    "        else:\n",
    "            # Weighted voting by inverse distance\n",
    "            class_votes = {}\n",
    "            for i, idx in enumerate(k_indices):\n",
    "                label = self.y_train[idx]\n",
    "                weight = 1 / (distances[idx] + 1e-9)  # Avoid division by zero\n",
    "                class_votes[label] = class_votes.get(label, 0) + weight\n",
    "            \n",
    "            return max(class_votes, key=class_votes.get)\n",
    "\n",
    "class MLModule:\n",
    "    def __init__(self):\n",
    "        self.models = {}\n",
    "    \n",
    "    def add_model(self, name, model):\n",
    "        if not isinstance(model, KNN):\n",
    "            raise TypeError(\"Model must be an instance of KNN.\")\n",
    "        self.models[name] = model\n",
    "    \n",
    "    def train(self, name, X, y):\n",
    "        if name in self.models:\n",
    "            print(f\"Training model '{name}' with {len(X)} samples...\")\n",
    "            self.models[name].fit(X, y)\n",
    "        else:\n",
    "            raise ValueError(f\"Model '{name}' not found.\")\n",
    "    \n",
    "    def predict(self, name, X):\n",
    "        if name in self.models:\n",
    "            return self.models[name].predict(X)\n",
    "        else:\n",
    "            raise ValueError(f\"Model '{name}' not found.\")"
   ]
  },
  {
   "cell_type": "markdown",
   "id": "bf94a6d8",
   "metadata": {},
   "source": [
    "## Load Cleaned Data and Train KNN Model"
   ]
  },
  {
   "cell_type": "code",
<<<<<<< HEAD
   "execution_count": 58,
=======
   "execution_count": null,
>>>>>>> 1d11873e117d4161a601866bac42ec53ff8a1812
   "id": "8cade0fa",
   "metadata": {},
   "outputs": [],
   "source": [
    "# Load cleaned dataset\n",
    "file_path = \"Cleaned_Patient_Records.csv\"\n",
    "df_cleaned = pd.read_csv(file_path)\n",
    "\n",
    "# Convert any object-type columns to numeric if missed\n",
    "categorical_columns = df_cleaned.select_dtypes(include=[\"object\"]).columns\n",
    "category_mappings = {}\n",
    "for col in categorical_columns:\n",
    "    unique_values = df_cleaned[col].unique()\n",
    "    mapping = {val: idx for idx, val in enumerate(unique_values)}\n",
    "    df_cleaned[col] = df_cleaned[col].map(mapping)\n",
    "    category_mappings[col] = mapping\n",
    "\n",
    "# Separate features and target variable\n",
    "X = df_cleaned.drop(columns=[\"SettlementValue\"], errors='ignore').values.astype(float)\n",
    "y = df_cleaned[\"SettlementValue\"].values.astype(float)\n",
    "\n",
    "# Safe Min-Max scaling\n",
    "X_min = X.min(axis=0)\n",
    "X_max = X.max(axis=0)\n",
    "denom = np.where((X_max - X_min) == 0, 1, X_max - X_min)\n",
    "X_scaled = (X - X_min) / denom\n",
    "\n",
    "# Train KNN Regression\n",
    "ml = MLModule()\n",
    "knn_regressor = KNN(k=1, regression=True)\n",
    "ml.add_model(\"knn_regressor\", knn_regressor)\n",
    "ml.train(\"knn_regressor\", X_scaled, y)\n",
    "print(\"KNN Regression Model Trained Successfully!\")\n"
   ]
  },
  {
   "cell_type": "code",
<<<<<<< HEAD
   "execution_count": 59,
=======
   "execution_count": null,
>>>>>>> 1d11873e117d4161a601866bac42ec53ff8a1812
   "id": "30583793",
   "metadata": {},
   "outputs": [],
   "source": [
    "\n",
    "# Weighted KNN prediction function\n",
    "def weighted_knn_predict(X_train, y_train, X_test, k=20):\n",
    "    predictions = []\n",
    "    for x in X_test:\n",
    "        distances = np.linalg.norm(X_train - x, axis=1)\n",
    "        k_indices = np.argsort(distances)[:k]\n",
    "        k_distances = distances[k_indices]\n",
    "        k_weights = 1 / (k_distances + 1e-5)  # Avoid division by zero\n",
    "\n",
    "        weighted_avg = np.dot(k_weights, y_train[k_indices]) / np.sum(k_weights)\n",
    "        predictions.append(weighted_avg)\n",
    "    \n",
    "    return np.array(predictions)\n"
   ]
  },
  {
   "cell_type": "markdown",
   "id": "b26c2c4e",
   "metadata": {},
   "source": [
    "## Model Performance: Actual vs Predicted Settlement Values"
   ]
  },
  {
   "cell_type": "code",
<<<<<<< HEAD
   "execution_count": 60,
   "id": "8aec127f",
   "metadata": {},
   "outputs": [
    {
     "data": {
      "image/png": "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",
      "text/plain": [
       "<Figure size 800x600 with 1 Axes>"
      ]
     },
     "metadata": {},
     "output_type": "display_data"
    }
   ],
=======
   "execution_count": null,
   "id": "8aec127f",
   "metadata": {},
   "outputs": [],
>>>>>>> 1d11873e117d4161a601866bac42ec53ff8a1812
   "source": [
    "\n",
    "# Make predictions on the dataset\n",
    "predictions = ml.predict(\"knn_regressor\", X_scaled)\n",
    "\n",
    "# Plot actual vs predicted values\n",
    "plt.figure(figsize=(8, 6))\n",
    "plt.scatter(y, predictions, alpha=0.5)\n",
    "plt.plot([min(y), max(y)], [min(y), max(y)], color='red', linestyle='dashed')  # Perfect prediction line\n",
    "plt.xlabel(\"Actual Settlement Values\")\n",
    "plt.ylabel(\"Predicted Settlement Values\")\n",
    "plt.title(\"Actual vs Predicted Settlement Values\")\n",
    "plt.show()\n"
   ]
  },
  {
   "cell_type": "markdown",
   "id": "1d08f8aa",
   "metadata": {},
   "source": [
    "Save the model\n"
   ]
  },
  {
   "cell_type": "code",
<<<<<<< HEAD
   "execution_count": 61,
   "id": "1cfdf208",
   "metadata": {},
   "outputs": [
    {
     "name": "stdout",
     "output_type": "stream",
     "text": [
      "✅ Model saved to 'knn_model_0.2.pkl'\n"
     ]
    }
   ],
=======
   "execution_count": null,
   "id": "1cfdf208",
   "metadata": {},
   "outputs": [],
>>>>>>> 1d11873e117d4161a601866bac42ec53ff8a1812
   "source": [
    "import pickle\n",
    "\n",
    "# Save the trained model to a file\n",
    "with open(\"knn_model.pkl\", \"wb\") as f:\n",
    "    pickle.dump(ml, f)\n",
    "\n",
    "print(\"✅ Model saved to 'knn_model_0.2.pkl'\")"
   ]
  },
  {
   "cell_type": "code",
   "execution_count": 51,
   "id": "39777283",
   "metadata": {},
   "outputs": [
    {
     "name": "stdout",
     "output_type": "stream",
     "text": [
      "Training model 'tuned_knn' with 3667 samples...\n",
      "Training model 'tuned_knn' with 3667 samples...\n",
      "Training model 'tuned_knn' with 3667 samples...\n",
      "Training model 'tuned_knn' with 3667 samples...\n",
      "Training model 'tuned_knn' with 3667 samples...\n",
      "Training model 'tuned_knn' with 3667 samples...\n",
      "Training model 'tuned_knn' with 3667 samples...\n",
      "Training model 'tuned_knn' with 3667 samples...\n",
      "Training model 'tuned_knn' with 3667 samples...\n",
      "Training model 'tuned_knn' with 3667 samples...\n",
      "Training model 'tuned_knn' with 3667 samples...\n",
      "Training model 'tuned_knn' with 3667 samples...\n",
      "Training model 'tuned_knn' with 3667 samples...\n",
      "Training model 'tuned_knn' with 3667 samples...\n",
      "Training model 'tuned_knn' with 3667 samples...\n"
     ]
    },
    {
     "ename": "KeyboardInterrupt",
     "evalue": "",
     "output_type": "error",
     "traceback": [
      "\u001b[31m---------------------------------------------------------------------------\u001b[39m",
      "\u001b[31mKeyboardInterrupt\u001b[39m                         Traceback (most recent call last)",
      "\u001b[36mCell\u001b[39m\u001b[36m \u001b[39m\u001b[32mIn[51]\u001b[39m\u001b[32m, line 13\u001b[39m\n\u001b[32m     11\u001b[39m ml.add_model(\u001b[33m\"\u001b[39m\u001b[33mtuned_knn\u001b[39m\u001b[33m\"\u001b[39m, knn)\n\u001b[32m     12\u001b[39m ml.train(\u001b[33m\"\u001b[39m\u001b[33mtuned_knn\u001b[39m\u001b[33m\"\u001b[39m, X_scaled, y)\n\u001b[32m---> \u001b[39m\u001b[32m13\u001b[39m preds = \u001b[43mml\u001b[49m\u001b[43m.\u001b[49m\u001b[43mpredict\u001b[49m\u001b[43m(\u001b[49m\u001b[33;43m\"\u001b[39;49m\u001b[33;43mtuned_knn\u001b[39;49m\u001b[33;43m\"\u001b[39;49m\u001b[43m,\u001b[49m\u001b[43m \u001b[49m\u001b[43mX_scaled\u001b[49m\u001b[43m)\u001b[49m\n\u001b[32m     15\u001b[39m mae_scores.append(mean_absolute_error(y, preds))\n\u001b[32m     16\u001b[39m r2_scores.append(r2_score(y, preds))\n",
      "\u001b[36mCell\u001b[39m\u001b[36m \u001b[39m\u001b[32mIn[46]\u001b[39m\u001b[32m, line 77\u001b[39m, in \u001b[36mMLModule.predict\u001b[39m\u001b[34m(self, name, X)\u001b[39m\n\u001b[32m     75\u001b[39m \u001b[38;5;28;01mdef\u001b[39;00m\u001b[38;5;250m \u001b[39m\u001b[34mpredict\u001b[39m(\u001b[38;5;28mself\u001b[39m, name, X):\n\u001b[32m     76\u001b[39m     \u001b[38;5;28;01mif\u001b[39;00m name \u001b[38;5;129;01min\u001b[39;00m \u001b[38;5;28mself\u001b[39m.models:\n\u001b[32m---> \u001b[39m\u001b[32m77\u001b[39m         \u001b[38;5;28;01mreturn\u001b[39;00m \u001b[38;5;28;43mself\u001b[39;49m\u001b[43m.\u001b[49m\u001b[43mmodels\u001b[49m\u001b[43m[\u001b[49m\u001b[43mname\u001b[49m\u001b[43m]\u001b[49m\u001b[43m.\u001b[49m\u001b[43mpredict\u001b[49m\u001b[43m(\u001b[49m\u001b[43mX\u001b[49m\u001b[43m)\u001b[49m\n\u001b[32m     78\u001b[39m     \u001b[38;5;28;01melse\u001b[39;00m:\n\u001b[32m     79\u001b[39m         \u001b[38;5;28;01mraise\u001b[39;00m \u001b[38;5;167;01mValueError\u001b[39;00m(\u001b[33mf\u001b[39m\u001b[33m\"\u001b[39m\u001b[33mModel \u001b[39m\u001b[33m'\u001b[39m\u001b[38;5;132;01m{\u001b[39;00mname\u001b[38;5;132;01m}\u001b[39;00m\u001b[33m'\u001b[39m\u001b[33m not found.\u001b[39m\u001b[33m\"\u001b[39m)\n",
      "\u001b[36mCell\u001b[39m\u001b[36m \u001b[39m\u001b[32mIn[46]\u001b[39m\u001b[32m, line 39\u001b[39m, in \u001b[36mKNN.predict\u001b[39m\u001b[34m(self, X)\u001b[39m\n\u001b[32m     37\u001b[39m \u001b[38;5;28;01mdef\u001b[39;00m\u001b[38;5;250m \u001b[39m\u001b[34mpredict\u001b[39m(\u001b[38;5;28mself\u001b[39m, X):\n\u001b[32m     38\u001b[39m     X = \u001b[38;5;28mself\u001b[39m.scaler.transform(np.array(X))\n\u001b[32m---> \u001b[39m\u001b[32m39\u001b[39m     predictions = [\u001b[38;5;28;43mself\u001b[39;49m\u001b[43m.\u001b[49m\u001b[43m_predict\u001b[49m\u001b[43m(\u001b[49m\u001b[43mx\u001b[49m\u001b[43m)\u001b[49m \u001b[38;5;28;01mfor\u001b[39;00m x \u001b[38;5;129;01min\u001b[39;00m X]\n\u001b[32m     40\u001b[39m     \u001b[38;5;28;01mreturn\u001b[39;00m np.array(predictions)\n",
      "\u001b[36mCell\u001b[39m\u001b[36m \u001b[39m\u001b[32mIn[46]\u001b[39m\u001b[32m, line 44\u001b[39m, in \u001b[36mKNN._predict\u001b[39m\u001b[34m(self, x)\u001b[39m\n\u001b[32m     42\u001b[39m \u001b[38;5;28;01mdef\u001b[39;00m\u001b[38;5;250m \u001b[39m\u001b[34m_predict\u001b[39m(\u001b[38;5;28mself\u001b[39m, x):\n\u001b[32m     43\u001b[39m     distances = np.linalg.norm(\u001b[38;5;28mself\u001b[39m.X_train - x, axis=\u001b[32m1\u001b[39m)\n\u001b[32m---> \u001b[39m\u001b[32m44\u001b[39m     k_indices = \u001b[43mnp\u001b[49m\u001b[43m.\u001b[49m\u001b[43margsort\u001b[49m\u001b[43m(\u001b[49m\u001b[43mdistances\u001b[49m\u001b[43m)\u001b[49m[:\u001b[38;5;28mself\u001b[39m.k]\n\u001b[32m     45\u001b[39m     k_nearest_values = \u001b[38;5;28mself\u001b[39m.y_train[k_indices]\n\u001b[32m     47\u001b[39m     \u001b[38;5;28;01mif\u001b[39;00m \u001b[38;5;28mself\u001b[39m.regression:\n",
      "\u001b[36mFile \u001b[39m\u001b[32m/Library/Frameworks/Python.framework/Versions/3.13/lib/python3.13/site-packages/numpy/_core/fromnumeric.py:1243\u001b[39m, in \u001b[36margsort\u001b[39m\u001b[34m(a, axis, kind, order, stable)\u001b[39m\n\u001b[32m   1130\u001b[39m \u001b[38;5;129m@array_function_dispatch\u001b[39m(_argsort_dispatcher)\n\u001b[32m   1131\u001b[39m \u001b[38;5;28;01mdef\u001b[39;00m\u001b[38;5;250m \u001b[39m\u001b[34margsort\u001b[39m(a, axis=-\u001b[32m1\u001b[39m, kind=\u001b[38;5;28;01mNone\u001b[39;00m, order=\u001b[38;5;28;01mNone\u001b[39;00m, *, stable=\u001b[38;5;28;01mNone\u001b[39;00m):\n\u001b[32m   1132\u001b[39m \u001b[38;5;250m    \u001b[39m\u001b[33;03m\"\"\"\u001b[39;00m\n\u001b[32m   1133\u001b[39m \u001b[33;03m    Returns the indices that would sort an array.\u001b[39;00m\n\u001b[32m   1134\u001b[39m \n\u001b[32m   (...)\u001b[39m\u001b[32m   1241\u001b[39m \n\u001b[32m   1242\u001b[39m \u001b[33;03m    \"\"\"\u001b[39;00m\n\u001b[32m-> \u001b[39m\u001b[32m1243\u001b[39m     \u001b[38;5;28;01mreturn\u001b[39;00m \u001b[43m_wrapfunc\u001b[49m\u001b[43m(\u001b[49m\n\u001b[32m   1244\u001b[39m \u001b[43m        \u001b[49m\u001b[43ma\u001b[49m\u001b[43m,\u001b[49m\u001b[43m \u001b[49m\u001b[33;43m'\u001b[39;49m\u001b[33;43margsort\u001b[39;49m\u001b[33;43m'\u001b[39;49m\u001b[43m,\u001b[49m\u001b[43m \u001b[49m\u001b[43maxis\u001b[49m\u001b[43m=\u001b[49m\u001b[43maxis\u001b[49m\u001b[43m,\u001b[49m\u001b[43m \u001b[49m\u001b[43mkind\u001b[49m\u001b[43m=\u001b[49m\u001b[43mkind\u001b[49m\u001b[43m,\u001b[49m\u001b[43m \u001b[49m\u001b[43morder\u001b[49m\u001b[43m=\u001b[49m\u001b[43morder\u001b[49m\u001b[43m,\u001b[49m\u001b[43m \u001b[49m\u001b[43mstable\u001b[49m\u001b[43m=\u001b[49m\u001b[43mstable\u001b[49m\n\u001b[32m   1245\u001b[39m \u001b[43m    \u001b[49m\u001b[43m)\u001b[49m\n",
      "\u001b[36mFile \u001b[39m\u001b[32m/Library/Frameworks/Python.framework/Versions/3.13/lib/python3.13/site-packages/numpy/_core/fromnumeric.py:57\u001b[39m, in \u001b[36m_wrapfunc\u001b[39m\u001b[34m(obj, method, *args, **kwds)\u001b[39m\n\u001b[32m     54\u001b[39m     \u001b[38;5;28;01mreturn\u001b[39;00m _wrapit(obj, method, *args, **kwds)\n\u001b[32m     56\u001b[39m \u001b[38;5;28;01mtry\u001b[39;00m:\n\u001b[32m---> \u001b[39m\u001b[32m57\u001b[39m     \u001b[38;5;28;01mreturn\u001b[39;00m \u001b[43mbound\u001b[49m\u001b[43m(\u001b[49m\u001b[43m*\u001b[49m\u001b[43margs\u001b[49m\u001b[43m,\u001b[49m\u001b[43m \u001b[49m\u001b[43m*\u001b[49m\u001b[43m*\u001b[49m\u001b[43mkwds\u001b[49m\u001b[43m)\u001b[49m\n\u001b[32m     58\u001b[39m \u001b[38;5;28;01mexcept\u001b[39;00m \u001b[38;5;167;01mTypeError\u001b[39;00m:\n\u001b[32m     59\u001b[39m     \u001b[38;5;66;03m# A TypeError occurs if the object does have such a method in its\u001b[39;00m\n\u001b[32m     60\u001b[39m     \u001b[38;5;66;03m# class, but its signature is not identical to that of NumPy's. This\u001b[39;00m\n\u001b[32m   (...)\u001b[39m\u001b[32m     64\u001b[39m     \u001b[38;5;66;03m# Call _wrapit from within the except clause to ensure a potential\u001b[39;00m\n\u001b[32m     65\u001b[39m     \u001b[38;5;66;03m# exception has a traceback chain.\u001b[39;00m\n\u001b[32m     66\u001b[39m     \u001b[38;5;28;01mreturn\u001b[39;00m _wrapit(obj, method, *args, **kwds)\n",
      "\u001b[31mKeyboardInterrupt\u001b[39m: "
     ]
    }
   ],
   "source": [
    "import matplotlib.pyplot as plt\n",
    "from sklearn.metrics import mean_absolute_error, r2_score\n",
    "\n",
    "k_values = list(range(1, 51))  # Test k from 1 to 50\n",
    "mae_scores = []\n",
    "r2_scores = []\n",
    "\n",
    "for k in k_values:\n",
    "    knn = KNN(k=k, regression=True)\n",
    "    ml = MLModule()\n",
    "    ml.add_model(\"tuned_knn\", knn)\n",
    "    ml.train(\"tuned_knn\", X_scaled, y)\n",
    "    preds = ml.predict(\"tuned_knn\", X_scaled)\n",
    "\n",
    "    mae_scores.append(mean_absolute_error(y, preds))\n",
    "    r2_scores.append(r2_score(y, preds))\n",
    "\n",
    "# Plot results\n",
    "plt.figure(figsize=(12, 5))\n",
    "\n",
    "plt.subplot(1, 2, 1)\n",
    "plt.plot(k_values, mae_scores, marker='o')\n",
    "plt.title(\"MAE vs k\")\n",
    "plt.xlabel(\"k (Number of Neighbors)\")\n",
    "plt.ylabel(\"Mean Absolute Error\")\n",
    "plt.grid()\n",
    "\n",
    "plt.subplot(1, 2, 2)\n",
    "plt.plot(k_values, r2_scores, marker='o', color='green')\n",
    "plt.title(\"R² Score vs k\")\n",
    "plt.xlabel(\"k (Number of Neighbors)\")\n",
    "plt.ylabel(\"R² Score\")\n",
    "plt.grid()\n",
    "\n",
    "plt.tight_layout()\n",
    "plt.show()\n",
    "\n",
    "# Print best k\n",
    "best_k = k_values[mae_scores.index(min(mae_scores))]\n",
    "print(f\"🏆 Best k based on MAE: {best_k}\")\n"
   ]
  },
  {
   "cell_type": "markdown",
   "id": "f8cdf1ef",
   "metadata": {},
   "source": [
    "## Predict Settlement Value from User Input"
   ]
  },
  {
   "cell_type": "code",
   "execution_count": null,
   "id": "271ba590",
   "metadata": {},
   "outputs": [],
   "source": [
    "\n",
    "# User input for prediction\n",
    "print(\"Please enter values for the following features:\")\n",
    "user_input = []\n",
    "feature_names = df_cleaned.drop(columns=[\"SettlementValue\"], errors='ignore').columns\n",
    "\n",
    "for feature in feature_names:\n",
    "    value = float(input(f\"{feature}: \"))\n",
    "    user_input.append(value)\n",
    "\n",
    "# Normalize user input using the same scaling\n",
    "user_input_scaled = (np.array(user_input) - X_min) / (X_max - X_min)\n",
    "\n",
    "# Predict Settlement Value\n",
    "prediction = ml.predict(\"knn_regressor\", [user_input_scaled])\n",
    "print(f\"Predicted Settlement Value: {prediction[0]}\")\n"
   ]
  }
 ],
 "metadata": {
  "kernelspec": {
   "display_name": "Python 3",
   "language": "python",
   "name": "python3"
  },
  "language_info": {
   "codemirror_mode": {
    "name": "ipython",
    "version": 3
   },
   "file_extension": ".py",
   "mimetype": "text/x-python",
   "name": "python",
   "nbconvert_exporter": "python",
   "pygments_lexer": "ipython3",
   "version": "3.11.9"
  }
 },
 "nbformat": 4,
 "nbformat_minor": 5
}
