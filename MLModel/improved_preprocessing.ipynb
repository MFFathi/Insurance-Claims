{
 "cells": [
  {
   "cell_type": "markdown",
   "id": "8b7473fc",
   "metadata": {},
   "source": [
    "# Enhanced Insurance Claims Data Analysis\n",
    "\n",
    "This notebook provides detailed analysis of insurance claims data with:\n",
    "- Comprehensive data visualization\n",
    "- Statistical analysis\n",
    "- Pattern discovery\n",
    "- Feature relationships"
   ]
  },
  {
   "cell_type": "code",
   "execution_count": null,
   "id": "4ecc30ec",
   "metadata": {},
   "outputs": [],
   "source": [
    "# Import required libraries\n",
    "import pandas as pd\n",
    "import numpy as np\n",
    "from sklearn.preprocessing import StandardScaler, RobustScaler\n",
    "import matplotlib.pyplot as plt\n",
    "import seaborn as sns\n",
    "from scipy import stats\n",
    "import warnings\n",
    "warnings.filterwarnings('ignore')\n",
    "\n",
    "# Set basic plot styles\n",
    "plt.rcParams['figure.figsize'] = [10, 6]\n",
    "plt.rcParams['axes.grid'] = True\n",
    "sns.set_theme(style=\"whitegrid\")"
   ]
  },
  {
   "cell_type": "markdown",
   "id": "6e8bf341",
   "metadata": {},
   "source": [
    "## 1. Data Loading and Initial Examination"
   ]
  },
  {
   "cell_type": "code",
   "execution_count": null,
   "id": "29c966a1",
   "metadata": {},
   "outputs": [],
   "source": [
    "# Load data\n",
    "df = pd.read_csv(\"Cleaned_Patient_Records.csv\")\n",
    "print(\"Dataset Shape:\", df.shape)\n",
    "print(\"Columns:\", df.columns.tolist())\n",
    "df.head()"
   ]
  },
  {
   "cell_type": "markdown",
   "id": "568dafe7",
   "metadata": {},
   "source": [
    "## 2. Statistical Analysis"
   ]
  },
  {
   "cell_type": "code",
   "execution_count": null,
   "id": "d6647004",
   "metadata": {},
   "outputs": [],
   "source": [
    "# Basic statistics and distributions\n",
    "print(\"Basic Statistics:\")\n",
    "print(df.describe())\n",
    "\n",
    "# Distribution of Settlement Values\n",
    "plt.figure(figsize=(12, 6))\n",
    "sns.histplot(data=df, x='SettlementValue', bins=50, kde=True)\n",
    "plt.title('Distribution of Settlement Values')\n",
    "plt.xlabel('Settlement Amount')\n",
    "plt.ylabel('Frequency')\n",
    "plt.show()\n",
    "\n",
    "# Box plot of settlements by accident type\n",
    "plt.figure(figsize=(12, 6))\n",
    "sns.boxplot(data=df, x='AccidentType', y='SettlementValue')\n",
    "plt.title('Settlement Distribution by Accident Type')\n",
    "plt.xticks(rotation=45)\n",
    "plt.show()"
   ]
  },
  {
   "cell_type": "markdown",
   "id": "946c6c09",
   "metadata": {},
   "source": [
    "## 3. Enhanced Feature Analysis"
   ]
  },
  {
   "cell_type": "code",
   "execution_count": null,
   "id": "01081035",
   "metadata": {},
   "outputs": [],
   "source": [
    "# Create composite features\n",
    "# First create total damages\n",
    "df['total_damages'] = df[[col for col in df.columns if col.startswith('Special') or col.startswith('General')]].sum(axis=1)\n",
    "\n",
    "# Then create special and general damages separately\n",
    "df['total_special_damages'] = df[[col for col in df.columns if 'Special' in col]].sum(axis=1)\n",
    "df['total_general_damages'] = df[[col for col in df.columns if 'General' in col]].sum(axis=1)\n",
    "\n",
    "# Create damage severity ratio with protection against division by zero\n",
    "df['damage_severity_ratio'] = df['total_damages'] / df['Injury_Prognosis'].replace(0, 1)\n",
    "\n",
    "# Handle infinite values and very large numbers\n",
    "df = df.replace([np.inf, -np.inf], np.nan)\n",
    "\n",
    "# Fill NaN values for numeric columns only\n",
    "numeric_cols = df.select_dtypes(include=['float64', 'int64']).columns\n",
    "df[numeric_cols] = df[numeric_cols].fillna(df[numeric_cols].mean())\n",
    "\n",
    "# Scatter plot matrix of key features\n",
    "key_features = ['SettlementValue', 'Injury_Prognosis', 'total_special_damages', 'total_general_damages']\n",
    "sns.pairplot(df[key_features], diag_kind='kde')\n",
    "plt.suptitle('Relationships Between Key Features', y=1.02)\n",
    "plt.show()\n",
    "\n",
    "# Correlation analysis with heatmap\n",
    "plt.figure(figsize=(12, 8))\n",
    "correlation_matrix = df[key_features].corr()\n",
    "sns.heatmap(correlation_matrix, annot=True, cmap='coolwarm', center=0)\n",
    "plt.title('Correlation Matrix of Key Features')\n",
    "plt.show()"
   ]
  },
  {
   "cell_type": "markdown",
   "id": "d156fc7a",
   "metadata": {},
   "source": [
    "## 4. Advanced Temporal Analysis"
   ]
  },
  {
   "cell_type": "code",
   "execution_count": null,
   "id": "212654a8",
   "metadata": {},
   "outputs": [],
   "source": [
    "# Convert to datetime\n",
    "df['Accident Date'] = pd.to_datetime(df['Accident Date'])\n",
    "\n",
    "# Extract temporal features\n",
    "df['hour'] = df['Accident Date'].dt.hour\n",
    "df['day_of_week'] = df['Accident Date'].dt.day_name()\n",
    "df['month'] = df['Accident Date'].dt.month\n",
    "df['season'] = pd.cut(df['Accident Date'].dt.month, bins=[0,3,6,9,12], labels=['Winter', 'Spring', 'Summer', 'Fall'])\n",
    "\n",
    "# Create subplots for temporal patterns\n",
    "fig, axes = plt.subplots(2, 2, figsize=(15, 12))\n",
    "\n",
    "# Average settlement by hour\n",
    "sns.lineplot(data=df, x='hour', y='SettlementValue', ax=axes[0,0])\n",
    "axes[0,0].set_title('Average Settlement by Hour')\n",
    "\n",
    "# Average settlement by day of week\n",
    "sns.boxplot(data=df, x='day_of_week', y='SettlementValue', ax=axes[0,1])\n",
    "axes[0,1].set_title('Settlement Distribution by Day of Week')\n",
    "axes[0,1].tick_params(axis='x', rotation=45)\n",
    "\n",
    "# Average settlement by month\n",
    "monthly_avg = df.groupby('month')['SettlementValue'].mean()\n",
    "sns.barplot(x=monthly_avg.index, y=monthly_avg.values, ax=axes[1,0])\n",
    "axes[1,0].set_title('Average Settlement by Month')\n",
    "\n",
    "# Settlement distribution by season\n",
    "sns.violinplot(data=df, x='season', y='SettlementValue', ax=axes[1,1])\n",
    "axes[1,1].set_title('Settlement Distribution by Season')\n",
    "\n",
    "plt.tight_layout()\n",
    "plt.show()"
   ]
  },
  {
   "cell_type": "markdown",
   "id": "4b557e9f",
   "metadata": {},
   "source": [
    "## 5. Injury and Damage Analysis"
   ]
  },
  {
   "cell_type": "code",
   "execution_count": null,
   "id": "e3c79f7d",
   "metadata": {},
   "outputs": [],
   "source": [
    "# Create injury severity categories\n",
    "df['severity_category'] = pd.qcut(df['Injury_Prognosis'], q=5, labels=['Very Low', 'Low', 'Medium', 'High', 'Very High'])\n",
    "\n",
    "# Plot injury patterns\n",
    "fig, axes = plt.subplots(2, 2, figsize=(15, 12))\n",
    "\n",
    "# Settlement by injury severity\n",
    "sns.boxplot(data=df, x='severity_category', y='SettlementValue', ax=axes[0,0])\n",
    "axes[0,0].set_title('Settlement by Injury Severity')\n",
    "axes[0,0].tick_params(axis='x', rotation=45)\n",
    "\n",
    "# Psychological injury impact\n",
    "sns.boxplot(data=df, x='Minor_Psychological_Injury', y='SettlementValue', ax=axes[0,1])\n",
    "axes[0,1].set_title('Settlement Distribution by Psychological Injury')\n",
    "\n",
    "# Special vs General damages\n",
    "sns.scatterplot(data=df, x='total_special_damages', y='total_general_damages', \n",
    "                hue='severity_category', size='SettlementValue', sizes=(20, 200), ax=axes[1,0])\n",
    "axes[1,0].set_title('Special vs General Damages')\n",
    "\n",
    "# Damage ratio distribution\n",
    "sns.histplot(data=df[df['damage_severity_ratio'] < df['damage_severity_ratio'].quantile(0.95)], \n",
    "            x='damage_severity_ratio', bins=50, kde=True, ax=axes[1,1])\n",
    "axes[1,1].set_title('Distribution of Damage-Severity Ratio')\n",
    "\n",
    "plt.tight_layout()\n",
    "plt.show()"
   ]
  },
  {
   "cell_type": "markdown",
   "id": "5b37ded1",
   "metadata": {},
   "source": [
    "## 6. Vehicle and Driver Analysis"
   ]
  },
  {
   "cell_type": "code",
   "execution_count": null,
   "id": "fd36f7c2",
   "metadata": {},
   "outputs": [],
   "source": [
    "# Create age groups\n",
    "df['driver_age_group'] = pd.qcut(df['Driver Age'], q=5, labels=['Very Young', 'Young', 'Middle', 'Senior', 'Elderly'])\n",
    "df['vehicle_age_group'] = pd.qcut(df['Vehicle Age'], q=4, labels=['New', 'Moderate', 'Old', 'Very Old'])\n",
    "\n",
    "# Plot vehicle and driver patterns\n",
    "fig, axes = plt.subplots(2, 2, figsize=(15, 12))\n",
    "\n",
    "# Settlement by driver age group\n",
    "sns.boxplot(data=df, x='driver_age_group', y='SettlementValue', ax=axes[0,0])\n",
    "axes[0,0].set_title('Settlement by Driver Age Group')\n",
    "axes[0,0].tick_params(axis='x', rotation=45)\n",
    "\n",
    "# Settlement by vehicle age group\n",
    "sns.boxplot(data=df, x='vehicle_age_group', y='SettlementValue', ax=axes[0,1])\n",
    "axes[0,1].set_title('Settlement by Vehicle Age')\n",
    "axes[0,1].tick_params(axis='x', rotation=45)\n",
    "\n",
    "# Driver age vs Vehicle age\n",
    "sns.scatterplot(data=df, x='Driver Age', y='Vehicle Age', \n",
    "                hue='SettlementValue', size='Injury_Prognosis', sizes=(20, 200), ax=axes[1,0])\n",
    "axes[1,0].set_title('Driver Age vs Vehicle Age')\n",
    "\n",
    "# Average settlement by weather and vehicle type\n",
    "sns.barplot(data=df, x='Weather Conditions', y='SettlementValue', hue='Vehicle Type', ax=axes[1,1])\n",
    "axes[1,1].set_title('Settlement by Weather and Vehicle Type')\n",
    "axes[1,1].tick_params(axis='x', rotation=45)\n",
    "\n",
    "plt.tight_layout()\n",
    "plt.show()"
   ]
  },
  {
   "cell_type": "markdown",
   "id": "ab510250",
   "metadata": {},
   "source": [
    "## 7. Final Processing and Conclusions"
   ]
  },
  {
   "cell_type": "code",
   "execution_count": null,
   "id": "b67a11e7",
   "metadata": {},
   "outputs": [],
   "source": [
    "# Handle infinite values and very large numbers\n",
    "df = df.replace([np.inf, -np.inf], np.nan)\n",
    "\n",
    "# Fill NaN values for numeric columns only\n",
    "numeric_cols = df.select_dtypes(include=['float64', 'int64']).columns\n",
    "df[numeric_cols] = df[numeric_cols].fillna(df[numeric_cols].mean())\n",
    "\n",
    "# Scale numerical features\n",
    "scaler = RobustScaler()\n",
    "df[numeric_cols] = scaler.fit_transform(df[numeric_cols])\n",
    "\n",
    "# Encode categorical variables (excluding datetime column)\n",
    "categorical_columns = df.select_dtypes(include=['object']).columns\n",
    "categorical_columns = [col for col in categorical_columns if col != 'Accident Date']\n",
    "for col in categorical_columns:\n",
    "    df[col] = df[col].astype('category').cat.codes\n",
    "\n",
    "# Save preprocessed data\n",
    "output_path = \"Cleaned_Patient_Records_preprocessed.csv\"\n",
    "df.to_csv(output_path, index=False)\n",
    "print(f\"✅ Preprocessed data saved to {output_path}\")\n",
    "\n",
    "# Final summary statistics\n",
    "print(\"\n",
    "Final Dataset Summary:\")\n",
    "print(f\"Total features: {df.shape[1]}\")\n",
    "print(f\"Total samples: {df.shape[0]}\")\n",
    "\n",
    "# Final correlation heatmap\n",
    "key_features = ['SettlementValue', 'total_special_damages', 'total_general_damages', \n",
    "                'Injury_Prognosis', 'Driver Age', 'Vehicle Age']\n",
    "plt.figure(figsize=(10, 8))\n",
    "sns.heatmap(df[key_features].corr(), annot=True, cmap='coolwarm', center=0)\n",
    "plt.title('Final Correlation Heatmap of Key Features')\n",
    "plt.tight_layout()\n",
    "plt.show()"
   ]
  }
 ],
 "metadata": {},
 "nbformat": 4,
 "nbformat_minor": 5
}
